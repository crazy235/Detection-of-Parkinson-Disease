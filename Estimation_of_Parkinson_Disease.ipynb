{
 "cells": [
  {
   "cell_type": "markdown",
   "source": [
    "# Importing Required Libraries\r\n",
    "\r\n",
    "- numpy\r\n",
    "```python\r\n",
    "    pip3 install numpy\r\n",
    "```\r\n",
    "- pandas\r\n",
    "```python\r\n",
    "    pip3 install pandas\r\n",
    "```\r\n",
    "- xgboost (Xtreme Gradeint Boost)\r\n",
    "```python\r\n",
    "    pip3 install xgboost\r\n",
    "```\r\n",
    "- Scikit learn\r\n",
    "```python\r\n",
    "    pip install -U scikit-learn\r\n",
    "```"
   ],
   "metadata": {}
  },
  {
   "cell_type": "code",
   "execution_count": null,
   "source": [
    "import os,sys\r\n",
    "import numpy as np\r\n",
    "import pandas as pd \r\n",
    "from xgboost import XGBClassifier\r\n",
    "from sklearn.metrics import accuracy_score\r\n",
    "from sklearn.preprocessing import MinMaxScaler\r\n",
    "from sklearn.model_selection import train_test_split"
   ],
   "outputs": [],
   "metadata": {}
  },
  {
   "cell_type": "markdown",
   "source": [
    "# Importing the Data Set\r\n",
    "Here we are using a **CSV** file which is saved in the same directory.\r\n",
    "<br>\r\n",
    "This data is available on **GitHub** from where you can download.\r\n",
    "<br>\r\n",
    "The link of the GitHub Data content is as follows:\r\n",
    "<br>\r\n",
    "[Click here to go to the Data Repository](https://github.com/chaitanyabaranwal/ParkinsonAnalysis)\r\n",
    "<br>\r\n",
    "[Click here to directly access CSV file](https://raw.githubusercontent.com/chaitanyabaranwal/ParkinsonAnalysis/master/parkinsons.csv)"
   ],
   "metadata": {}
  },
  {
   "cell_type": "code",
   "execution_count": null,
   "source": [
    "url = \"https://raw.githubusercontent.com/chaitanyabaranwal/ParkinsonAnalysis/master/parkinsons.csv\"\r\n",
    "final_data = pd.read_csv(url)"
   ],
   "outputs": [],
   "metadata": {}
  },
  {
   "cell_type": "markdown",
   "source": [
    "# Reviewing the Data Set that was imported."
   ],
   "metadata": {}
  },
  {
   "cell_type": "code",
   "execution_count": null,
   "source": [
    "print(final_data)"
   ],
   "outputs": [],
   "metadata": {}
  },
  {
   "cell_type": "markdown",
   "source": [
    "# Spliting the data into Input and Output Sets"
   ],
   "metadata": {}
  },
  {
   "cell_type": "code",
   "execution_count": null,
   "source": [
    "# Features\r\n",
    "features = final_data.loc[:,final_data.columns != \"status\"].values[:,1:]\r\n",
    "# Lables\r\n",
    "lables = final_data.loc[:,\"status\"].values"
   ],
   "outputs": [],
   "metadata": {}
  },
  {
   "cell_type": "markdown",
   "source": [
    "# Review Input Data Set"
   ],
   "metadata": {}
  },
  {
   "cell_type": "code",
   "execution_count": null,
   "source": [
    "print(features)"
   ],
   "outputs": [],
   "metadata": {}
  },
  {
   "cell_type": "markdown",
   "source": [
    "# Review Output Data Set"
   ],
   "metadata": {}
  },
  {
   "cell_type": "code",
   "execution_count": null,
   "source": [
    "print (lables)"
   ],
   "outputs": [],
   "metadata": {}
  },
  {
   "cell_type": "markdown",
   "source": [
    "# Counting Number of Labels\r\n",
    "For our verification we just keep a track of the result in Input Data Set.\r\n",
    "<br>\r\n",
    "This gives us a insight on to what extent our data is showing a positive result and to what extent our data is showing negitive "
   ],
   "metadata": {}
  },
  {
   "cell_type": "code",
   "execution_count": null,
   "source": [
    "# Get the count of lables which are (0 and 1)\r\n",
    "print(lables[lables==1].shape[0],lables[lables==0].shape[0])"
   ],
   "outputs": [],
   "metadata": {}
  },
  {
   "cell_type": "markdown",
   "source": [
    "# Scaling"
   ],
   "metadata": {}
  },
  {
   "cell_type": "code",
   "execution_count": null,
   "source": [
    "# Scaling \r\n",
    "scaler = MinMaxScaler((-1,1))\r\n",
    "x_data = scaler.fit_transform(features)\r\n",
    "y_data = lables"
   ],
   "outputs": [],
   "metadata": {}
  },
  {
   "cell_type": "markdown",
   "source": [
    "# Splitting Data Set into Training Set and Testing Set"
   ],
   "metadata": {}
  },
  {
   "cell_type": "code",
   "execution_count": null,
   "source": [
    "x_train,x_test,y_train,y_test = train_test_split(x_data, y_data, test_size=0.2, random_state=0)"
   ],
   "outputs": [],
   "metadata": {}
  },
  {
   "cell_type": "markdown",
   "source": [
    "# Feeding the data into Trainer "
   ],
   "metadata": {}
  },
  {
   "cell_type": "code",
   "execution_count": null,
   "source": [
    "trainer = XGBClassifier()\r\n",
    "trainer.fit(x_train, y_train)"
   ],
   "outputs": [],
   "metadata": {}
  },
  {
   "cell_type": "markdown",
   "source": [
    "# Prediction for the Testing Set"
   ],
   "metadata": {}
  },
  {
   "cell_type": "code",
   "execution_count": null,
   "source": [
    "y_predicted = trainer.predict(x_test)"
   ],
   "outputs": [],
   "metadata": {}
  },
  {
   "cell_type": "markdown",
   "source": [
    "# Comparing Predicted Values with actual values\r\n",
    "While running our test data we have get the predicted values from trainer algorithm and we already have true values of the testing data set. Here we just compare them."
   ],
   "metadata": {}
  },
  {
   "cell_type": "code",
   "execution_count": null,
   "source": [
    "results = pd.DataFrame({\"Actual\":y_test,\"Predicted\":y_predicted})\r\n",
    "print(results)"
   ],
   "outputs": [],
   "metadata": {}
  },
  {
   "cell_type": "markdown",
   "source": [
    "# Accuracy Score of the Predicted Data\r\n",
    "This score gives a measure of how accurate our results are when compared to the results of Testing Data Set"
   ],
   "metadata": {}
  },
  {
   "cell_type": "code",
   "execution_count": null,
   "source": [
    "print(accuracy_score(y_test,y_predicted)*100)"
   ],
   "outputs": [],
   "metadata": {}
  }
 ],
 "metadata": {
  "orig_nbformat": 4,
  "language_info": {
   "name": "python",
   "version": "3.9.5",
   "mimetype": "text/x-python",
   "codemirror_mode": {
    "name": "ipython",
    "version": 3
   },
   "pygments_lexer": "ipython3",
   "nbconvert_exporter": "python",
   "file_extension": ".py"
  },
  "kernelspec": {
   "name": "python3",
   "display_name": "Python 3.9.5 64-bit (windows store)"
  },
  "interpreter": {
   "hash": "ae7c9c1c92ccbdf3814b835f1aa9e3f0d208fb6548f2cd0e3c333b3fcbc212b6"
  }
 },
 "nbformat": 4,
 "nbformat_minor": 2
}